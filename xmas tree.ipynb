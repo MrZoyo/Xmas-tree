{
 "cells": [
  {
   "cell_type": "markdown",
   "id": "38ffd94e",
   "metadata": {},
   "source": [
    "# Merry Xmas"
   ]
  },
  {
   "cell_type": "code",
   "execution_count": 1,
   "id": "4788c8b0",
   "metadata": {
    "scrolled": true
   },
   "outputs": [
    {
     "name": "stdout",
     "output_type": "stream",
     "text": [
      "                    \u001b[5;31;41m \u001b[0m\n",
      "                   \u001b[5;33;43m \u001b[0m\u001b[5;33;43m \u001b[0m\u001b[5;33;43m \u001b[0m\n",
      "                  \u001b[1;32;42m \u001b[0m\u001b[1;32;42m \u001b[0m\u001b[1;32;42m \u001b[0m\u001b[1;32;42m \u001b[0m\u001b[1;32;42m \u001b[0m\n",
      "                 \u001b[5;31;41m \u001b[0m\u001b[5;31;41m \u001b[0m\u001b[5;31;41m \u001b[0m\u001b[5;31;41m \u001b[0m\u001b[5;31;41m \u001b[0m\u001b[5;31;41m \u001b[0m\u001b[5;31;41m \u001b[0m\n",
      "                \u001b[1;35;45m \u001b[0m\u001b[1;35;45m \u001b[0m\u001b[1;35;45m \u001b[0m\u001b[1;35;45m \u001b[0m\u001b[1;35;45m \u001b[0m\u001b[1;35;45m \u001b[0m\u001b[1;35;45m \u001b[0m\u001b[1;35;45m \u001b[0m\u001b[1;35;45m \u001b[0m\n",
      "               \u001b[1;32;42m \u001b[0m\u001b[1;32;42m \u001b[0m\u001b[1;32;42m \u001b[0m\u001b[1;32;42m \u001b[0m\u001b[1;32;42m \u001b[0m\u001b[1;32;42m \u001b[0m\u001b[1;32;42m \u001b[0m\u001b[1;32;42m \u001b[0m\u001b[1;32;42m \u001b[0m\u001b[1;32;42m \u001b[0m\u001b[1;32;42m \u001b[0m\n",
      "              \u001b[5;33;43m \u001b[0m\u001b[5;33;43m \u001b[0m\u001b[5;33;43m \u001b[0m\u001b[5;33;43m \u001b[0m\u001b[5;33;43m \u001b[0m\u001b[5;33;43m \u001b[0m\u001b[5;33;43m \u001b[0m\u001b[5;33;43m \u001b[0m\u001b[5;33;43m \u001b[0m\u001b[5;33;43m \u001b[0m\u001b[5;33;43m \u001b[0m\u001b[5;33;43m \u001b[0m\u001b[5;33;43m \u001b[0m\n",
      "             \u001b[1;32;42m \u001b[0m\u001b[1;32;42m \u001b[0m\u001b[1;32;42m \u001b[0m\u001b[1;32;42m \u001b[0m\u001b[1;32;42m \u001b[0m\u001b[1;32;42m \u001b[0m\u001b[1;32;42m \u001b[0m\u001b[1;32;42m \u001b[0m\u001b[1;32;42m \u001b[0m\u001b[1;32;42m \u001b[0m\u001b[1;32;42m \u001b[0m\u001b[1;32;42m \u001b[0m\u001b[1;32;42m \u001b[0m\u001b[1;32;42m \u001b[0m\u001b[1;32;42m \u001b[0m\n",
      "            \u001b[1;32;42m \u001b[0m\u001b[1;32;42m \u001b[0m\u001b[1;32;42m \u001b[0m\u001b[1;32;42m \u001b[0m\u001b[1;32;42m \u001b[0m\u001b[1;32;42m \u001b[0m\u001b[1;32;42m \u001b[0m\u001b[1;32;42m \u001b[0m\u001b[1;32;42m \u001b[0m\u001b[1;32;42m \u001b[0m\u001b[1;32;42m \u001b[0m\u001b[1;32;42m \u001b[0m\u001b[1;32;42m \u001b[0m\u001b[1;32;42m \u001b[0m\u001b[1;32;42m \u001b[0m\u001b[1;32;42m \u001b[0m\u001b[1;32;42m \u001b[0m\n",
      "           \u001b[5;31;41m \u001b[0m\u001b[5;31;41m \u001b[0m\u001b[5;31;41m \u001b[0m\u001b[5;31;41m \u001b[0m\u001b[5;31;41m \u001b[0m\u001b[5;31;41m \u001b[0m\u001b[5;31;41m \u001b[0m\u001b[5;31;41m \u001b[0m\u001b[5;31;41m \u001b[0m\u001b[5;31;41m \u001b[0m\u001b[5;31;41m \u001b[0m\u001b[5;31;41m \u001b[0m\u001b[5;31;41m \u001b[0m\u001b[5;31;41m \u001b[0m\u001b[5;31;41m \u001b[0m\u001b[5;31;41m \u001b[0m\u001b[5;31;41m \u001b[0m\u001b[5;31;41m \u001b[0m\u001b[5;31;41m \u001b[0m\n",
      "          \u001b[1;32;42m \u001b[0m\u001b[1;32;42m \u001b[0m\u001b[1;32;42m \u001b[0m\u001b[1;32;42m \u001b[0m\u001b[1;32;42m \u001b[0m\u001b[1;32;42m \u001b[0m\u001b[1;32;42m \u001b[0m\u001b[1;32;42m \u001b[0m\u001b[1;32;42m \u001b[0m\u001b[1;32;42m \u001b[0m\u001b[1;32;42m \u001b[0m\u001b[1;32;42m \u001b[0m\u001b[1;32;42m \u001b[0m\u001b[1;32;42m \u001b[0m\u001b[1;32;42m \u001b[0m\u001b[1;32;42m \u001b[0m\u001b[1;32;42m \u001b[0m\u001b[1;32;42m \u001b[0m\u001b[1;32;42m \u001b[0m\u001b[1;32;42m \u001b[0m\u001b[1;32;42m \u001b[0m\n",
      "         \u001b[1;35;45m \u001b[0m\u001b[1;35;45m \u001b[0m\u001b[1;35;45m \u001b[0m\u001b[1;35;45m \u001b[0m\u001b[1;35;45m \u001b[0m\u001b[1;35;45m \u001b[0m\u001b[1;35;45m \u001b[0m\u001b[1;35;45m \u001b[0m\u001b[1;35;45m \u001b[0m\u001b[1;35;45m \u001b[0m\u001b[1;35;45m \u001b[0m\u001b[1;35;45m \u001b[0m\u001b[1;35;45m \u001b[0m\u001b[1;35;45m \u001b[0m\u001b[1;35;45m \u001b[0m\u001b[1;35;45m \u001b[0m\u001b[1;35;45m \u001b[0m\u001b[1;35;45m \u001b[0m\u001b[1;35;45m \u001b[0m\u001b[1;35;45m \u001b[0m\u001b[1;35;45m \u001b[0m\u001b[1;35;45m \u001b[0m\u001b[1;35;45m \u001b[0m\n",
      "                    \u001b[1;30;40m \u001b[0m\n",
      "                    \u001b[1;30;40m \u001b[0m\n",
      "                    \u001b[1;30;40m \u001b[0m\n"
     ]
    }
   ],
   "source": [
    "import random\n",
    "c = ['\\033[1;32;42m \\033[0m','\\033[1;32;42m \\033[0m','\\033[5;31;41m \\033[0m','\\033[5;33;43m \\033[0m','\\033[1;35;45m \\033[0m']\n",
    "print('\\n'.join([(20-i)*' '+random.choice(c)*(2*i+1) if i<12 else' '*20+'\\033[1;30;40m \\033[0m'for i in range(15)]))"
   ]
  },
  {
   "cell_type": "code",
   "execution_count": null,
   "id": "6623e132",
   "metadata": {},
   "outputs": [],
   "source": []
  }
 ],
 "metadata": {
  "kernelspec": {
   "display_name": "Python 3",
   "language": "python",
   "name": "python3"
  },
  "language_info": {
   "codemirror_mode": {
    "name": "ipython",
    "version": 3
   },
   "file_extension": ".py",
   "mimetype": "text/x-python",
   "name": "python",
   "nbconvert_exporter": "python",
   "pygments_lexer": "ipython3",
   "version": "3.8.8"
  }
 },
 "nbformat": 4,
 "nbformat_minor": 5
}
